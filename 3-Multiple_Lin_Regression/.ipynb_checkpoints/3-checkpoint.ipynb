{
 "cells": [
  {
   "cell_type": "code",
   "execution_count": 1,
   "id": "9e01cc49-c372-4941-a3cd-eb1d2647050b",
   "metadata": {
    "tags": []
   },
   "outputs": [],
   "source": [
    "# data preprocessing\n",
    "\n",
    "import pandas as pd\n",
    "import matplotlib.pyplot as plt\n"
   ]
  },
  {
   "cell_type": "code",
   "execution_count": 4,
   "id": "46738de2-37fd-4da9-9abf-3f73a02ca7d2",
   "metadata": {
    "tags": []
   },
   "outputs": [
    {
     "data": {
      "text/plain": [
       "Index(['R&D Spend', 'Administration', 'Marketing Spend', 'State', 'Profit'], dtype='object')"
      ]
     },
     "execution_count": 4,
     "metadata": {},
     "output_type": "execute_result"
    }
   ],
   "source": [
    "# Importing the dataset\n",
    "\n",
    "df = pd.read_csv('../data/50_Startups.csv')\n",
    "df.columns"
   ]
  },
  {
   "cell_type": "code",
   "execution_count": 5,
   "id": "7514c682-7a9d-4cef-b06f-05a0746435fa",
   "metadata": {
    "tags": []
   },
   "outputs": [],
   "source": [
    "# spliiting to x and y\n",
    "\n",
    "X = df.iloc[ : , :-1].values\n",
    "Y = df.iloc[ : , 4].values\n",
    "\n"
   ]
  },
  {
   "cell_type": "code",
   "execution_count": 8,
   "id": "448bdc18-cde3-4964-8d18-5def7827c752",
   "metadata": {
    "tags": []
   },
   "outputs": [],
   "source": [
    "# training\n",
    "from sklearn.model_selection import train_test_split\n",
    "\n",
    "X_train, X_test, Y_train, Y_test = train_test_split(X, Y, test_size=1/4, random_state=0)"
   ]
  },
  {
   "cell_type": "code",
   "execution_count": null,
   "id": "cd66c21e-8782-4e71-aa27-a86e4624041f",
   "metadata": {},
   "outputs": [],
   "source": [
    "# fitting to the linear regression model\n",
    "from sklearn.linear_model import LinearRegression\n"
   ]
  }
 ],
 "metadata": {
  "kernelspec": {
   "display_name": "Python 3 (ipykernel)",
   "language": "python",
   "name": "python3"
  },
  "language_info": {
   "codemirror_mode": {
    "name": "ipython",
    "version": 3
   },
   "file_extension": ".py",
   "mimetype": "text/x-python",
   "name": "python",
   "nbconvert_exporter": "python",
   "pygments_lexer": "ipython3",
   "version": "3.10.12"
  }
 },
 "nbformat": 4,
 "nbformat_minor": 5
}
