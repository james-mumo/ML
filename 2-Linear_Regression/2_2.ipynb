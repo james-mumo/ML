{
 "cells": [
  {
   "cell_type": "code",
   "execution_count": 14,
   "id": "db70663a-07c6-4d84-af80-dfb0898363d1",
   "metadata": {},
   "outputs": [],
   "source": [
    "import pandas as pd\n",
    "import matplotlib.pyplot as plt\n",
    "from sklearn.model_selection import train_test_split\n",
    "from sklearn.linear_model import LinearRegression"
   ]
  },
  {
   "cell_type": "code",
   "execution_count": null,
   "id": "8eca8744-0a41-4543-9912-ef56566614f3",
   "metadata": {},
   "outputs": [],
   "source": []
  },
  {
   "cell_type": "code",
   "execution_count": 4,
   "id": "f9e04bff-9827-4a2a-95bb-44c8d9dfb519",
   "metadata": {},
   "outputs": [
    {
     "data": {
      "text/html": [
       "<div>\n",
       "<style scoped>\n",
       "    .dataframe tbody tr th:only-of-type {\n",
       "        vertical-align: middle;\n",
       "    }\n",
       "\n",
       "    .dataframe tbody tr th {\n",
       "        vertical-align: top;\n",
       "    }\n",
       "\n",
       "    .dataframe thead th {\n",
       "        text-align: right;\n",
       "    }\n",
       "</style>\n",
       "<table border=\"1\" class=\"dataframe\">\n",
       "  <thead>\n",
       "    <tr style=\"text-align: right;\">\n",
       "      <th></th>\n",
       "      <th>Hours_Studied</th>\n",
       "      <th>Test_Score</th>\n",
       "      <th>Work_Hours</th>\n",
       "      <th>Income</th>\n",
       "    </tr>\n",
       "  </thead>\n",
       "  <tbody>\n",
       "    <tr>\n",
       "      <th>0</th>\n",
       "      <td>2</td>\n",
       "      <td>60</td>\n",
       "      <td>40</td>\n",
       "      <td>30000</td>\n",
       "    </tr>\n",
       "    <tr>\n",
       "      <th>1</th>\n",
       "      <td>3</td>\n",
       "      <td>65</td>\n",
       "      <td>35</td>\n",
       "      <td>35000</td>\n",
       "    </tr>\n",
       "    <tr>\n",
       "      <th>2</th>\n",
       "      <td>4</td>\n",
       "      <td>75</td>\n",
       "      <td>30</td>\n",
       "      <td>40000</td>\n",
       "    </tr>\n",
       "  </tbody>\n",
       "</table>\n",
       "</div>"
      ],
      "text/plain": [
       "   Hours_Studied  Test_Score  Work_Hours  Income\n",
       "0              2          60          40   30000\n",
       "1              3          65          35   35000\n",
       "2              4          75          30   40000"
      ]
     },
     "execution_count": 4,
     "metadata": {},
     "output_type": "execute_result"
    }
   ],
   "source": [
    "df = pd.read_csv('../data/randomdata.csv')\n",
    "\n",
    "df.head(3)"
   ]
  },
  {
   "cell_type": "code",
   "execution_count": 13,
   "id": "21846fa1-4dd9-4db6-960f-29a9efc0eade",
   "metadata": {},
   "outputs": [
    {
     "name": "stdout",
     "output_type": "stream",
     "text": [
      "Index(['Hours_Studied', 'Test_Score', 'Work_Hours', 'Income'], dtype='object') \n",
      " (19, 4)\n"
     ]
    }
   ],
   "source": [
    "print(df.columns, '\\n' ,df.shape)"
   ]
  },
  {
   "cell_type": "code",
   "execution_count": null,
   "id": "9fdae930-092e-4647-8ed0-b327ecb8e574",
   "metadata": {},
   "outputs": [],
   "source": []
  },
  {
   "cell_type": "code",
   "execution_count": 15,
   "id": "1f7f8f29-1d38-4757-9749-c4dd818c1395",
   "metadata": {},
   "outputs": [
    {
     "name": "stdout",
     "output_type": "stream",
     "text": [
      "0     40\n",
      "1     35\n",
      "2     30\n",
      "3     25\n",
      "4     20\n",
      "5     15\n",
      "6     10\n",
      "7      5\n",
      "8      0\n",
      "9     -5\n",
      "10   -10\n",
      "11   -15\n",
      "12   -20\n",
      "13   -25\n",
      "14   -30\n",
      "15   -35\n",
      "16   -40\n",
      "17   -45\n",
      "18   -50\n",
      "Name: Work_Hours, dtype: int64 0      30000\n",
      "1      35000\n",
      "2      40000\n",
      "3      45000\n",
      "4      50000\n",
      "5      55000\n",
      "6      60000\n",
      "7      65000\n",
      "8      70000\n",
      "9      75000\n",
      "10     80000\n",
      "11     85000\n",
      "12     90000\n",
      "13     95000\n",
      "14    100000\n",
      "15    105000\n",
      "16    110000\n",
      "17    115000\n",
      "18    120000\n",
      "Name: Income, dtype: int64\n"
     ]
    }
   ],
   "source": [
    "# Lets get values for the work hours as X and income as Y\n",
    "X = df.iloc[ : , 2]\n",
    "y = df.iloc[ : , 3]\n",
    "\n",
    "# print(X, y)"
   ]
  },
  {
   "cell_type": "code",
   "execution_count": 16,
   "id": "34afa182-cc5f-4572-aae8-c638b494eb00",
   "metadata": {},
   "outputs": [],
   "source": [
    "# we train and test\n",
    "X_train, X_test, Y_train, Y_test = train_test_split(X, y, test_size = 1/4, random_state = 0)"
   ]
  },
  {
   "cell_type": "code",
   "execution_count": null,
   "id": "7026a408-9edf-4652-96f1-cc3afd791380",
   "metadata": {},
   "outputs": [],
   "source": [
    "# now we add the predictor\n"
   ]
  }
 ],
 "metadata": {
  "kernelspec": {
   "display_name": "Python 3 (ipykernel)",
   "language": "python",
   "name": "python3"
  },
  "language_info": {
   "codemirror_mode": {
    "name": "ipython",
    "version": 3
   },
   "file_extension": ".py",
   "mimetype": "text/x-python",
   "name": "python",
   "nbconvert_exporter": "python",
   "pygments_lexer": "ipython3",
   "version": "3.11.5"
  }
 },
 "nbformat": 4,
 "nbformat_minor": 5
}
